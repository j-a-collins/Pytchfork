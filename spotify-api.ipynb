{
 "cells": [
  {
   "cell_type": "markdown",
   "metadata": {},
   "source": [
    "## Best New Music: Spotify\n",
    "### Notebook 2\n",
    "##### Building on the Pitchfork scrape, this notebook loops through the new music entries and adds a Spotify link if one is available\n",
    "##### Jack Collins"
   ]
  },
  {
   "cell_type": "code",
   "execution_count": 25,
   "metadata": {},
   "outputs": [],
   "source": [
    "import pandas as pd\n",
    "import requests\n",
    "import json\n",
    "import time\n",
    "import re\n",
    "import base64"
   ]
  },
  {
   "cell_type": "code",
   "execution_count": 26,
   "metadata": {},
   "outputs": [],
   "source": [
    "# Load in the .csv from the last notebook\n",
    "pitch = pd.read_csv('new_music.csv')"
   ]
  },
  {
   "cell_type": "code",
   "execution_count": 27,
   "metadata": {},
   "outputs": [
    {
     "data": {
      "text/html": [
       "<div>\n",
       "<style scoped>\n",
       "    .dataframe tbody tr th:only-of-type {\n",
       "        vertical-align: middle;\n",
       "    }\n",
       "\n",
       "    .dataframe tbody tr th {\n",
       "        vertical-align: top;\n",
       "    }\n",
       "\n",
       "    .dataframe thead th {\n",
       "        text-align: right;\n",
       "    }\n",
       "</style>\n",
       "<table border=\"1\" class=\"dataframe\">\n",
       "  <thead>\n",
       "    <tr style=\"text-align: right;\">\n",
       "      <th></th>\n",
       "      <th>artist</th>\n",
       "      <th>title</th>\n",
       "      <th>review_link</th>\n",
       "      <th>album_track</th>\n",
       "      <th>genre</th>\n",
       "      <th>artwork</th>\n",
       "    </tr>\n",
       "  </thead>\n",
       "  <tbody>\n",
       "    <tr>\n",
       "      <th>0</th>\n",
       "      <td>Kali Uchis</td>\n",
       "      <td>Red Moon in Venus</td>\n",
       "      <td>https://pitchfork.com/best//reviews/albums/kal...</td>\n",
       "      <td>Album</td>\n",
       "      <td>['Pop/R&amp;B']</td>\n",
       "      <td>https://media.pitchfork.com/photos/63cece0fa59...</td>\n",
       "    </tr>\n",
       "    <tr>\n",
       "      <th>1</th>\n",
       "      <td>Various Artists</td>\n",
       "      <td>Soul’d Out: The Complete Wattstax Collection</td>\n",
       "      <td>https://pitchfork.com/best//reviews/albums/var...</td>\n",
       "      <td>Album</td>\n",
       "      <td>[]</td>\n",
       "      <td>https://media.pitchfork.com/photos/63ff7859f53...</td>\n",
       "    </tr>\n",
       "    <tr>\n",
       "      <th>2</th>\n",
       "      <td>Model/Actriz</td>\n",
       "      <td>Dogsbody</td>\n",
       "      <td>/reviews/albums/model-actriz-dogsbody/</td>\n",
       "      <td>Album</td>\n",
       "      <td>Rock</td>\n",
       "      <td>https://media.pitchfork.com/photos/63c562f0688...</td>\n",
       "    </tr>\n",
       "    <tr>\n",
       "      <th>3</th>\n",
       "      <td>Liv.e</td>\n",
       "      <td>Girl in the Half Pearl</td>\n",
       "      <td>/reviews/albums/live-girl-in-the-half-pearl/</td>\n",
       "      <td>Album</td>\n",
       "      <td>Pop/R&amp;B</td>\n",
       "      <td>https://media.pitchfork.com/photos/63b85a20198...</td>\n",
       "    </tr>\n",
       "    <tr>\n",
       "      <th>4</th>\n",
       "      <td>Caroline Polachek</td>\n",
       "      <td>Desire, I Want to Turn Into You</td>\n",
       "      <td>/reviews/albums/caroline-polachek-desire-i-wan...</td>\n",
       "      <td>Album</td>\n",
       "      <td>Pop/R&amp;B</td>\n",
       "      <td>https://media.pitchfork.com/photos/638e25b9050...</td>\n",
       "    </tr>\n",
       "  </tbody>\n",
       "</table>\n",
       "</div>"
      ],
      "text/plain": [
       "              artist                                         title  \\\n",
       "0         Kali Uchis                             Red Moon in Venus   \n",
       "1    Various Artists  Soul’d Out: The Complete Wattstax Collection   \n",
       "2       Model/Actriz                                      Dogsbody   \n",
       "3              Liv.e                        Girl in the Half Pearl   \n",
       "4  Caroline Polachek               Desire, I Want to Turn Into You   \n",
       "\n",
       "                                         review_link album_track        genre  \\\n",
       "0  https://pitchfork.com/best//reviews/albums/kal...       Album  ['Pop/R&B']   \n",
       "1  https://pitchfork.com/best//reviews/albums/var...       Album           []   \n",
       "2             /reviews/albums/model-actriz-dogsbody/       Album         Rock   \n",
       "3       /reviews/albums/live-girl-in-the-half-pearl/       Album      Pop/R&B   \n",
       "4  /reviews/albums/caroline-polachek-desire-i-wan...       Album      Pop/R&B   \n",
       "\n",
       "                                             artwork  \n",
       "0  https://media.pitchfork.com/photos/63cece0fa59...  \n",
       "1  https://media.pitchfork.com/photos/63ff7859f53...  \n",
       "2  https://media.pitchfork.com/photos/63c562f0688...  \n",
       "3  https://media.pitchfork.com/photos/63b85a20198...  \n",
       "4  https://media.pitchfork.com/photos/638e25b9050...  "
      ]
     },
     "execution_count": 27,
     "metadata": {},
     "output_type": "execute_result"
    }
   ],
   "source": [
    "pitch.head()"
   ]
  },
  {
   "cell_type": "code",
   "execution_count": 31,
   "metadata": {},
   "outputs": [],
   "source": [
    "# Spotify client ID and secret\n",
    "client_id = '69b2947b7d2b4fe8815c6017a2ebadd8'\n",
    "client_secret = '8fabea4ea9e446b7b9ce96cf74e3b79f'"
   ]
  },
  {
   "cell_type": "code",
   "execution_count": 32,
   "metadata": {},
   "outputs": [],
   "source": [
    "def get_token():\n",
    "    \"\"\"Function to get the API token, just following the Spotify docs basically...\"\"\"\n",
    "    auth_str = client_id + \":\" + client_secret\n",
    "    auth_bytes = auth_str.encode(\"utf-8\")\n",
    "    auth_base64 = str(base64.b64encode(auth_bytes), \"utf-8\")\n",
    "    url = \"https://accounts.spotify/api/token\"\n",
    "    headers = {\n",
    "        \"Authorization\": \"Basic \" + auth_base64,\n",
    "        \"Content-Type\": \"application/x-www-form-urlencoded\"\n",
    "    }\n",
    "    data = {\"grant_type\": \"client_credentials\"}\n",
    "    retry_counter = 0\n",
    "    #result = post(url, headers=headers, data=data, timeout=10)\n",
    "    while retry_counter < 5:\n",
    "        try:\n",
    "            result = requests.post(url, headers=headers, data=data, timeout=5)\n",
    "        except socket.error as error:\n",
    "            print(f\"Connection Failed due to socket - {error}\")\n",
    "            print(f\"Attempting {retry_counter} of 5\")\n",
    "            time.sleep(3)\n",
    "            retry_counter  += 1\n",
    "    json_result = json.loads(result.content)\n",
    "    token = json_results[\"access_token\"]\n",
    "    return token"
   ]
  },
  {
   "cell_type": "code",
   "execution_count": 33,
   "metadata": {},
   "outputs": [
    {
     "name": "stdout",
     "output_type": "stream",
     "text": [
      "Connection Failed due to socket - HTTPSConnectionPool(host='accounts.spotify', port=443): Max retries exceeded with url: /api/token (Caused by NewConnectionError('<urllib3.connection.HTTPSConnection object at 0x000001D6BCBFE880>: Failed to establish a new connection: [Errno 11001] getaddrinfo failed'))\n",
      "Attempting 0 of 5\n",
      "Connection Failed due to socket - HTTPSConnectionPool(host='accounts.spotify', port=443): Max retries exceeded with url: /api/token (Caused by NewConnectionError('<urllib3.connection.HTTPSConnection object at 0x000001D6BCBFE610>: Failed to establish a new connection: [Errno 11001] getaddrinfo failed'))\n",
      "Attempting 1 of 5\n",
      "Connection Failed due to socket - HTTPSConnectionPool(host='accounts.spotify', port=443): Max retries exceeded with url: /api/token (Caused by NewConnectionError('<urllib3.connection.HTTPSConnection object at 0x000001D6BCBFEDC0>: Failed to establish a new connection: [Errno 11001] getaddrinfo failed'))\n",
      "Attempting 2 of 5\n",
      "Connection Failed due to socket - HTTPSConnectionPool(host='accounts.spotify', port=443): Max retries exceeded with url: /api/token (Caused by NewConnectionError('<urllib3.connection.HTTPSConnection object at 0x000001D6BCBFE8B0>: Failed to establish a new connection: [Errno 11001] getaddrinfo failed'))\n",
      "Attempting 3 of 5\n",
      "Connection Failed due to socket - HTTPSConnectionPool(host='accounts.spotify', port=443): Max retries exceeded with url: /api/token (Caused by NewConnectionError('<urllib3.connection.HTTPSConnection object at 0x000001D6BCBFE6D0>: Failed to establish a new connection: [Errno 11001] getaddrinfo failed'))\n",
      "Attempting 4 of 5\n"
     ]
    },
    {
     "ename": "UnboundLocalError",
     "evalue": "local variable 'result' referenced before assignment",
     "output_type": "error",
     "traceback": [
      "\u001b[1;31m---------------------------------------------------------------------------\u001b[0m",
      "\u001b[1;31mUnboundLocalError\u001b[0m                         Traceback (most recent call last)",
      "\u001b[1;32m~\\AppData\\Local\\Temp\\ipykernel_11388\\3631932396.py\u001b[0m in \u001b[0;36m<module>\u001b[1;34m\u001b[0m\n\u001b[1;32m----> 1\u001b[1;33m \u001b[0mtoken\u001b[0m \u001b[1;33m=\u001b[0m \u001b[0mget_token\u001b[0m\u001b[1;33m(\u001b[0m\u001b[1;33m)\u001b[0m\u001b[1;33m\u001b[0m\u001b[1;33m\u001b[0m\u001b[0m\n\u001b[0m\u001b[0;32m      2\u001b[0m \u001b[0mtoken\u001b[0m\u001b[1;33m\u001b[0m\u001b[1;33m\u001b[0m\u001b[0m\n",
      "\u001b[1;32m~\\AppData\\Local\\Temp\\ipykernel_11388\\1263922475.py\u001b[0m in \u001b[0;36mget_token\u001b[1;34m()\u001b[0m\n\u001b[0;32m     20\u001b[0m             \u001b[0mtime\u001b[0m\u001b[1;33m.\u001b[0m\u001b[0msleep\u001b[0m\u001b[1;33m(\u001b[0m\u001b[1;36m3\u001b[0m\u001b[1;33m)\u001b[0m\u001b[1;33m\u001b[0m\u001b[1;33m\u001b[0m\u001b[0m\n\u001b[0;32m     21\u001b[0m             \u001b[0mretry_counter\u001b[0m  \u001b[1;33m+=\u001b[0m \u001b[1;36m1\u001b[0m\u001b[1;33m\u001b[0m\u001b[1;33m\u001b[0m\u001b[0m\n\u001b[1;32m---> 22\u001b[1;33m     \u001b[0mjson_result\u001b[0m \u001b[1;33m=\u001b[0m \u001b[0mjson\u001b[0m\u001b[1;33m.\u001b[0m\u001b[0mloads\u001b[0m\u001b[1;33m(\u001b[0m\u001b[0mresult\u001b[0m\u001b[1;33m.\u001b[0m\u001b[0mcontent\u001b[0m\u001b[1;33m)\u001b[0m\u001b[1;33m\u001b[0m\u001b[1;33m\u001b[0m\u001b[0m\n\u001b[0m\u001b[0;32m     23\u001b[0m     \u001b[0mtoken\u001b[0m \u001b[1;33m=\u001b[0m \u001b[0mjson_results\u001b[0m\u001b[1;33m[\u001b[0m\u001b[1;34m\"access_token\"\u001b[0m\u001b[1;33m]\u001b[0m\u001b[1;33m\u001b[0m\u001b[1;33m\u001b[0m\u001b[0m\n\u001b[0;32m     24\u001b[0m     \u001b[1;32mreturn\u001b[0m \u001b[0mtoken\u001b[0m\u001b[1;33m\u001b[0m\u001b[1;33m\u001b[0m\u001b[0m\n",
      "\u001b[1;31mUnboundLocalError\u001b[0m: local variable 'result' referenced before assignment"
     ]
    }
   ],
   "source": [
    "token = get_token()\n",
    "token"
   ]
  },
  {
   "cell_type": "code",
   "execution_count": 8,
   "metadata": {},
   "outputs": [],
   "source": [
    "# Set up your access token endpoint and data\n",
    "auth_url = 'https://accounts.spotify.com/api/token'\n",
    "auth_data = {\n",
    "    'grant_type': 'client_credentials',\n",
    "    'client_id': client_id,\n",
    "    'client_secret': client_secret\n",
    "}"
   ]
  },
  {
   "cell_type": "code",
   "execution_count": 9,
   "metadata": {},
   "outputs": [],
   "source": [
    "# Request an access token\n",
    "auth_response = requests.post(auth_url, data=auth_data)\n",
    "auth_response_data = json.loads(auth_response.text)\n",
    "access_token = auth_response_data['access_token']"
   ]
  },
  {
   "cell_type": "code",
   "execution_count": 10,
   "metadata": {},
   "outputs": [],
   "source": [
    "# Set up the search endpoint and data\n",
    "search_url = 'https://api.spotify.com/v1/search'\n",
    "search_data = {\n",
    "    'q': 'album:\"The Dark Side of the Moon\"',\n",
    "    'type': 'album'\n",
    "}"
   ]
  },
  {
   "cell_type": "code",
   "execution_count": 11,
   "metadata": {},
   "outputs": [],
   "source": [
    "# Search for the album and extract its URI\n",
    "headers = {\n",
    "    'Authorization': f'Bearer {access_token}'\n",
    "}\n",
    "search_response = requests.get(search_url, params=search_data, headers=headers)\n",
    "search_response_data = json.loads(search_response.text)\n",
    "album_uri = search_response_data['albums']['items'][0]['uri']"
   ]
  },
  {
   "cell_type": "code",
   "execution_count": 12,
   "metadata": {},
   "outputs": [],
   "source": [
    "# Extract the playlist ID from the playlist URL\n",
    "playlist_url = 'https://open.spotify.com/playlist/4CQjOow2bgRcRg9eZJTmBH?si=f79f218505e64b9b'\n",
    "playlist_id = re.search(r'playlist/(\\w+)', playlist_url).group(1)"
   ]
  },
  {
   "cell_type": "code",
   "execution_count": 13,
   "metadata": {},
   "outputs": [
    {
     "data": {
      "text/plain": [
       "'4CQjOow2bgRcRg9eZJTmBH'"
      ]
     },
     "execution_count": 13,
     "metadata": {},
     "output_type": "execute_result"
    }
   ],
   "source": [
    "playlist_id"
   ]
  },
  {
   "cell_type": "code",
   "execution_count": 14,
   "metadata": {},
   "outputs": [],
   "source": [
    "# Set up the add-to-playlist endpoint and data\n",
    "playlist_uri = f'spotify:playlist:{playlist_id}'\n",
    "add_to_playlist_url = f'https://api.spotify.com/v1/playlists/{playlist_uri}/tracks'\n",
    "add_to_playlist_data = {\n",
    "    'uris': [album_uri]\n",
    "}"
   ]
  },
  {
   "cell_type": "code",
   "execution_count": 15,
   "metadata": {},
   "outputs": [],
   "source": [
    "# Add the album to the playlist\n",
    "add_to_playlist_response = requests.post(add_to_playlist_url, json=add_to_playlist_data, headers=headers)"
   ]
  },
  {
   "cell_type": "code",
   "execution_count": 16,
   "metadata": {},
   "outputs": [
    {
     "data": {
      "text/plain": [
       "<Response [404]>"
      ]
     },
     "execution_count": 16,
     "metadata": {},
     "output_type": "execute_result"
    }
   ],
   "source": [
    "add_to_playlist_response"
   ]
  },
  {
   "cell_type": "code",
   "execution_count": null,
   "metadata": {},
   "outputs": [],
   "source": [
    "add_to_playlist_url"
   ]
  },
  {
   "cell_type": "code",
   "execution_count": null,
   "metadata": {},
   "outputs": [],
   "source": []
  },
  {
   "cell_type": "code",
   "execution_count": null,
   "metadata": {},
   "outputs": [],
   "source": [
    "# Combining these fields makes it easier to search\n",
    "pitch['title_artist'] = pitch['artist'] + ' ' + pitch['title']"
   ]
  },
  {
   "cell_type": "code",
   "execution_count": 11,
   "metadata": {},
   "outputs": [
    {
     "ename": "ModuleNotFoundError",
     "evalue": "No module named 'credentials'",
     "output_type": "error",
     "traceback": [
      "\u001b[1;31m---------------------------------------------------------------------------\u001b[0m",
      "\u001b[1;31mModuleNotFoundError\u001b[0m                       Traceback (most recent call last)",
      "\u001b[1;32m~\\AppData\\Local\\Temp\\ipykernel_11388\\3838089876.py\u001b[0m in \u001b[0;36m<module>\u001b[1;34m\u001b[0m\n\u001b[0;32m      1\u001b[0m \u001b[1;31m# Bringing in Spotify credentials\u001b[0m\u001b[1;33m\u001b[0m\u001b[1;33m\u001b[0m\u001b[0m\n\u001b[1;32m----> 2\u001b[1;33m \u001b[1;32mfrom\u001b[0m \u001b[0mcredentials\u001b[0m \u001b[1;32mimport\u001b[0m \u001b[0ms_key\u001b[0m\u001b[1;33m,\u001b[0m \u001b[0mss_key\u001b[0m\u001b[1;33m\u001b[0m\u001b[1;33m\u001b[0m\u001b[0m\n\u001b[0m",
      "\u001b[1;31mModuleNotFoundError\u001b[0m: No module named 'credentials'"
     ]
    }
   ],
   "source": [
    "# Bringing in Spotify credentials\n",
    "from credentials import s_key, ss_key"
   ]
  },
  {
   "cell_type": "code",
   "execution_count": 12,
   "metadata": {},
   "outputs": [],
   "source": [
    "#This function gets an auth token\n",
    "def auth(key, sec):\n",
    "    \n",
    "    authorize = 'https://accounts.spotify.com/api/token'\n",
    "    param = {\n",
    "    \"Content-Type\": \"application/x-www-form-urlencoded\",\n",
    "    'grant_type' : 'client_credentials'\n",
    "    }\n",
    "    res = requests.post(authorize, auth = (s_key, ss_key), data = param)\n",
    "    token = res.json()['access_token']\n",
    "    \n",
    "    return token"
   ]
  },
  {
   "cell_type": "code",
   "execution_count": 9,
   "metadata": {},
   "outputs": [],
   "source": [
    "#This function loops through the dataframe, search Spotify, and adds the link to listen if one is available\n",
    "\n",
    "def get_uri(df):\n",
    "    #Set up empty counter and total songs to get\n",
    "    count = 0 \n",
    "    total = len(df)\n",
    "    token = auth(s_key, ss_key)\n",
    "    \n",
    "    for i in range(len(df)):\n",
    "        count += 1\n",
    "        song = df.loc[i, 'title_artist']\n",
    "       \n",
    "        try:\n",
    "            \n",
    "            #Search parameters with the song plugged in\n",
    "            params = {\n",
    "            'q' : song,\n",
    "            'type': 'album',\n",
    "            'limit' : 5\n",
    "            }\n",
    "\n",
    "            #Header for authorization\n",
    "            header = {'Authorization' : f'Bearer {token}'}\n",
    "\n",
    "            #Search endpoint\n",
    "            spotify_search = 'https://api.spotify.com/v1/search'\n",
    "\n",
    "            #Make the request\n",
    "            res = requests.get(spotify_search, headers = header, params = params)\n",
    "            status = res.status_code\n",
    "            \n",
    "            #Continue if status code is 200:\n",
    "            if res.status_code == 200:\n",
    "            \n",
    "                #Save the results and grab the uri\n",
    "                results = res.json()\n",
    "\n",
    "                uri = results['albums']['items'][0]['external_urls']['spotify']\n",
    "            \n",
    "            else:\n",
    "                print(df.loc[i, 'title_artist'])\n",
    "        \n",
    "        except:\n",
    "            #If it doesn't work, print out the song and fill in with nan\n",
    "            print(f'Could not retrieve {song}, status code {status}')\n",
    "            uri = 'nan'\n",
    "            \n",
    "        #Add the info the the DataFrame:\n",
    "       \n",
    "        df.loc[i, 'spotify'] = uri\n",
    "        \n",
    "        #Print updates for every 100\n",
    "        if count % 100 == 0:\n",
    "            print(f'{count} gathered out of {total}')\n",
    "        \n",
    "        #Take a break to not exceed the rate limit\n",
    "        time.sleep(1)\n",
    "\n",
    "    return df"
   ]
  },
  {
   "cell_type": "code",
   "execution_count": 10,
   "metadata": {},
   "outputs": [
    {
     "ename": "NameError",
     "evalue": "name 's_key' is not defined",
     "output_type": "error",
     "traceback": [
      "\u001b[1;31m---------------------------------------------------------------------------\u001b[0m",
      "\u001b[1;31mNameError\u001b[0m                                 Traceback (most recent call last)",
      "\u001b[1;32m~\\AppData\\Local\\Temp\\ipykernel_11388\\3416564915.py\u001b[0m in \u001b[0;36m<module>\u001b[1;34m\u001b[0m\n\u001b[1;32m----> 1\u001b[1;33m \u001b[0mpitch\u001b[0m \u001b[1;33m=\u001b[0m \u001b[0mget_uri\u001b[0m\u001b[1;33m(\u001b[0m\u001b[0mpitch\u001b[0m\u001b[1;33m)\u001b[0m\u001b[1;33m\u001b[0m\u001b[1;33m\u001b[0m\u001b[0m\n\u001b[0m",
      "\u001b[1;32m~\\AppData\\Local\\Temp\\ipykernel_11388\\1893997224.py\u001b[0m in \u001b[0;36mget_uri\u001b[1;34m(df)\u001b[0m\n\u001b[0;32m      5\u001b[0m     \u001b[0mcount\u001b[0m \u001b[1;33m=\u001b[0m \u001b[1;36m0\u001b[0m\u001b[1;33m\u001b[0m\u001b[1;33m\u001b[0m\u001b[0m\n\u001b[0;32m      6\u001b[0m     \u001b[0mtotal\u001b[0m \u001b[1;33m=\u001b[0m \u001b[0mlen\u001b[0m\u001b[1;33m(\u001b[0m\u001b[0mdf\u001b[0m\u001b[1;33m)\u001b[0m\u001b[1;33m\u001b[0m\u001b[1;33m\u001b[0m\u001b[0m\n\u001b[1;32m----> 7\u001b[1;33m     \u001b[0mtoken\u001b[0m \u001b[1;33m=\u001b[0m \u001b[0mauth\u001b[0m\u001b[1;33m(\u001b[0m\u001b[0ms_key\u001b[0m\u001b[1;33m,\u001b[0m \u001b[0mss_key\u001b[0m\u001b[1;33m)\u001b[0m\u001b[1;33m\u001b[0m\u001b[1;33m\u001b[0m\u001b[0m\n\u001b[0m\u001b[0;32m      8\u001b[0m \u001b[1;33m\u001b[0m\u001b[0m\n\u001b[0;32m      9\u001b[0m     \u001b[1;32mfor\u001b[0m \u001b[0mi\u001b[0m \u001b[1;32min\u001b[0m \u001b[0mrange\u001b[0m\u001b[1;33m(\u001b[0m\u001b[0mlen\u001b[0m\u001b[1;33m(\u001b[0m\u001b[0mdf\u001b[0m\u001b[1;33m)\u001b[0m\u001b[1;33m)\u001b[0m\u001b[1;33m:\u001b[0m\u001b[1;33m\u001b[0m\u001b[1;33m\u001b[0m\u001b[0m\n",
      "\u001b[1;31mNameError\u001b[0m: name 's_key' is not defined"
     ]
    }
   ],
   "source": [
    "pitch = get_uri(pitch)"
   ]
  },
  {
   "cell_type": "code",
   "execution_count": null,
   "metadata": {},
   "outputs": [],
   "source": [
    "#Returnedf dataframe\n",
    "pitch"
   ]
  }
 ],
 "metadata": {
  "kernelspec": {
   "display_name": "Python 3 (ipykernel)",
   "language": "python",
   "name": "python3"
  },
  "language_info": {
   "codemirror_mode": {
    "name": "ipython",
    "version": 3
   },
   "file_extension": ".py",
   "mimetype": "text/x-python",
   "name": "python",
   "nbconvert_exporter": "python",
   "pygments_lexer": "ipython3",
   "version": "3.9.13"
  }
 },
 "nbformat": 4,
 "nbformat_minor": 4
}
