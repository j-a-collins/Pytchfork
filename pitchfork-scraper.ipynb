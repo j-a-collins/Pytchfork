{
 "cells": [
  {
   "cell_type": "markdown",
   "metadata": {},
   "source": [
    "## Best New Music\n",
    "### Notebook 1\n",
    "##### Webscrapes the 'best new music' from pitchfork and saves to .csv\n",
    "##### Jack Collins"
   ]
  },
  {
   "cell_type": "code",
   "execution_count": 1,
   "metadata": {},
   "outputs": [],
   "source": [
    "# Imports\n",
    "import pandas as pd\n",
    "import requests\n",
    "from bs4 import BeautifulSoup\n",
    "from IPython.display import Image"
   ]
  },
  {
   "cell_type": "code",
   "execution_count": 2,
   "metadata": {},
   "outputs": [
    {
     "name": "stdout",
     "output_type": "stream",
     "text": [
      "Response code: 200\n"
     ]
    }
   ],
   "source": [
    "request = requests.get('https://pitchfork.com/best/')\n",
    "print(f\"Response code: {request.status_code}\")"
   ]
  },
  {
   "cell_type": "code",
   "execution_count": 3,
   "metadata": {},
   "outputs": [
    {
     "data": {
      "text/plain": [
       "'<!DOCTYPE html><html lang=\"en\"><head><title data-react-helmet=\"true\">Best New Music: Tracks, Albums &amp; Reissues | Pitchfork</title><meta data-react-helmet=\"true\" name=\"viewport\" content=\"width=device-width, initial-scale=1.0, user-scalable=no\"/><meta data-react-helmet=\"true\" name=\"og:type\" content=\"website\"/><meta data-react-helmet=\"true\" name=\"og:site_name\" content=\"Pitchfork\"/><meta data-react-helmet=\"true\" name=\"og:title\" content=\"Pitchfork\"/><meta data-react-helmet=\"true\" name=\"og:url\" content=\"https://pitchfork.com\"/><meta data-react-helmet=\"true\" name=\"description\" content=\"The most exciting and important music being released today\"/><meta data-react-helmet=\"true\" name=\"og:description\" content=\"The most exciting and important music being released today\"/><script async=\"\" src=\"/fonts-css/load-fonts.min.js\"></script><link data-react-helmet=\"true\" rel=\"shortcut icon\" type=\"image/png\" href=\"https://cdn.pitchfork.com/assets/misc/favicon-32.png\"/><link data-react-helmet=\"true\" rel=\"'"
      ]
     },
     "execution_count": 3,
     "metadata": {},
     "output_type": "execute_result"
    }
   ],
   "source": [
    "request.text[:1000]"
   ]
  },
  {
   "cell_type": "code",
   "execution_count": 4,
   "metadata": {},
   "outputs": [],
   "source": [
    "# Convert the raw text into a BS object:\n",
    "best = BeautifulSoup(request.text, 'lxml')\n",
    "# All albums and tracks have the following class tags:\n",
    "class_tags = ['bnm-hero__review-block', 'bnm-small album-small', 'bnm-small track-small']\n",
    "# List of all the entries, looping through to get all information\n",
    "reviews = best.find_all('div', {'class' : class_tags})"
   ]
  },
  {
   "cell_type": "code",
   "execution_count": 5,
   "metadata": {},
   "outputs": [
    {
     "data": {
      "text/plain": [
       "21"
      ]
     },
     "execution_count": 5,
     "metadata": {},
     "output_type": "execute_result"
    }
   ],
   "source": [
    "len(reviews)"
   ]
  },
  {
   "cell_type": "markdown",
   "metadata": {},
   "source": [
    "#### Data format:\n",
    "* Artist\n",
    "* Title\n",
    "* Preview of review\n",
    "* Writer\n",
    "* Rating\n",
    "* Link to Pitchfork’s full review\n",
    "* Album or song\n",
    "* Genre\n",
    "* Artwork"
   ]
  },
  {
   "cell_type": "code",
   "execution_count": 6,
   "metadata": {},
   "outputs": [
    {
     "data": {
      "text/plain": [
       "<div class=\"bnm-hero__review-block\"><a class=\"bnm-hero__link-block\" href=\"/reviews/tracks/dijon-coogie/\"><div class=\"artwork bnm-hero__artwork bnm-hero__artwork--with-notch\"><img alt=\"Dijon: “coogie”\" class=\"bnm-hero__img\" src=\"https://media.pitchfork.com/photos/640105b25ec95150c5526999/1:1/w_320/Dijon%20Coogie%20Single%20Artwork.jpg\"/></div><div class=\"details\"><h3 class=\"bnm-hero__artist\"><ul class=\"artist-list\"><li>Dijon</li></ul></h3><h3 class=\"bnm-hero__title\">“Coogie”</h3></div></a><ul class=\"genre-list genre-list--inline bnm-hero__genre-list\"><li class=\"genre-list__item\"><a class=\"genre-list__link\" href=\"/reviews/tracks/?genre=pop\">Pop/R&amp;B</a></li></ul><ul class=\"authors\"><li><a class=\"linked display-name display-name--linked\" href=\"/staff/jordan-coley/\"><span class=\"by\">by: </span>Jordan Coley</a></li></ul><p class=\"bnm-hero__date\"><time class=\"pub-date\" datetime=\"2023-03-03T19:50:49\" title=\"Fri, 03 Mar 2023 19:50:49 GMT\">12 hrs ago</time></p></div>"
      ]
     },
     "execution_count": 6,
     "metadata": {},
     "output_type": "execute_result"
    }
   ],
   "source": [
    "reviews[1]"
   ]
  },
  {
   "cell_type": "code",
   "execution_count": 7,
   "metadata": {},
   "outputs": [
    {
     "name": "stdout",
     "output_type": "stream",
     "text": [
      "Current best new album:\n"
     ]
    },
    {
     "data": {
      "text/html": [
       "<img src=\"https://media.pitchfork.com/photos/63cece0fa5957e2471744d13/1:1/w_320/Kali-Uchis-Red-Moon-in-Venus.jpg\"/>"
      ],
      "text/plain": [
       "<IPython.core.display.Image object>"
      ]
     },
     "execution_count": 7,
     "metadata": {},
     "output_type": "execute_result"
    }
   ],
   "source": [
    "artwork = reviews[0].find('img').attrs['src']\n",
    "print(\"Current best new album:\")\n",
    "Image(url=artwork)"
   ]
  },
  {
   "cell_type": "code",
   "execution_count": 8,
   "metadata": {},
   "outputs": [
    {
     "name": "stdout",
     "output_type": "stream",
     "text": [
      "Kali Uchis\n",
      "Red Moon in Venus\n",
      "/reviews/albums/kali-uchis-red-moon-in-venus/\n",
      "Album\n",
      "Pop/R&B\n",
      "https://media.pitchfork.com/photos/63cece0fa5957e2471744d13/1:1/w_320/Kali-Uchis-Red-Moon-in-Venus.jpg\n"
     ]
    }
   ],
   "source": [
    "# Artist\n",
    "print(reviews[0].find_all(['h3'])[0].text)\n",
    "# Title\n",
    "print(reviews[0].find_all(['h3'])[1].text)\n",
    "# Link to review\n",
    "print(reviews[0].find('a').attrs['href'])\n",
    "# Album or track\n",
    "print(reviews[0].find('a').attrs['href'].split('/')[2][:-1].title())\n",
    "# Genre\n",
    "print([genre.text for genre in reviews[0].find_all('li', {'class' : 'genre-list__item'})][0])\n",
    "# Artwork\n",
    "print(reviews[0].find('img').attrs['src'])"
   ]
  },
  {
   "cell_type": "code",
   "execution_count": 9,
   "metadata": {},
   "outputs": [
    {
     "data": {
      "text/plain": [
       "'Caroline Polachek'"
      ]
     },
     "execution_count": 9,
     "metadata": {},
     "output_type": "execute_result"
    }
   ],
   "source": [
    "[i.text for i in reviews[5].find_all(['ul'], {'class' : 'artist-list'})][0]"
   ]
  },
  {
   "cell_type": "code",
   "execution_count": 10,
   "metadata": {},
   "outputs": [
    {
     "name": "stdout",
     "output_type": "stream",
     "text": [
      "Caroline Polachek\n",
      "Desire, I Want to Turn Into You\n",
      "/reviews/albums/caroline-polachek-desire-i-want-to-turn-into-you/\n",
      "Album\n",
      "Pop/R&B\n",
      "https://media.pitchfork.com/photos/638e25b9050dcbdc83fd7926/1:1/w_160/Caroline-Polachek.jpg\n"
     ]
    }
   ],
   "source": [
    "# Artist\n",
    "print(', '.join([i.text for i in reviews[5].find_all(['ul'], {'class' : 'artist-list'})]))\n",
    "# Title\n",
    "print(reviews[5].find(['h2']).text)\n",
    "# Link to review\n",
    "print(reviews[5].find('a').attrs['href'])\n",
    "# Album or track\n",
    "print(reviews[5].find('a').attrs['href'].split('/')[2][:-1].title())\n",
    "# Genre\n",
    "print([genre.text for genre in reviews[5].find_all('li', {'class' : 'genre-list__item'})][0])\n",
    "# Artwork\n",
    "print(reviews[5].find('img').attrs['src'])"
   ]
  },
  {
   "cell_type": "code",
   "execution_count": 11,
   "metadata": {},
   "outputs": [
    {
     "data": {
      "text/plain": [
       "200"
      ]
     },
     "execution_count": 11,
     "metadata": {},
     "output_type": "execute_result"
    }
   ],
   "source": [
    "# For other reviews\n",
    "rev_request = requests.get('https://pitchfork.com' + reviews[0].find('a').attrs['href'])\n",
    "rev_request.status_code"
   ]
  },
  {
   "cell_type": "markdown",
   "metadata": {},
   "source": [
    "#### Function grab the best albums:"
   ]
  },
  {
   "cell_type": "code",
   "execution_count": 12,
   "metadata": {},
   "outputs": [],
   "source": [
    "def get_pitchfork(URL):\n",
    "    res = requests.get(URL)\n",
    "    if res.status_code == 200:\n",
    "        best = BeautifulSoup(res.text, 'lxml')\n",
    "        class_tags = ['bnm-hero__review-block', 'bnm-small album-small', 'bnm-small track-small']\n",
    "        reviews = best.find_all('div', {'class' : class_tags})\n",
    "        all_dict = []\n",
    "        for i, review in enumerate(reviews):\n",
    "            if i <= 2:\n",
    "                entry = {\n",
    "                    'artist': review.find_all(['h3'])[0].text,\n",
    "                    'title': review.find_all(['h3'])[1].text,\n",
    "                    'review_link': URL + review.find('a').attrs['href'],\n",
    "                    'album_track': review.find('a').attrs['href'].split('/')[2][:-1].title(),\n",
    "                    'genre': [genre.text for genre in review.find_all('li', {'class' : 'genre-list__item'})],\n",
    "                    'artwork': review.find('img').attrs['src'],\n",
    "                }\n",
    "            else:\n",
    "                entry = {\n",
    "                    'artist': ', '.join([i.text for i in review.find_all(['ul'], {'class' : 'artist-list'})]),\n",
    "                    'title': review.find(['h2']).text,\n",
    "                    'review_link': review.find('a').attrs['href'],\n",
    "                    'album_track': review.find('a').attrs['href'].split('/')[2][:-1].title(),\n",
    "                    'genre': [genre.text for genre in review.find_all('li', {'class' : 'genre-list__item'})][0],\n",
    "                    'artwork': review.find('img').attrs['src'],\n",
    "                }\n",
    "            rev_res = requests.get(URL + review.find('a').attrs['href'])\n",
    "            if rev_res.status_code == 200:\n",
    "                rev = BeautifulSoup(rev_res.text, 'lxml')\n",
    "                if entry['album_track'] == 'Album':\n",
    "                    entry['preview'] = rev.find('div', {'class': 'review-detail__abstract'}).find('p').text\n",
    "                    entry['score'] = rev.find('span', {'class': 'score'}).text\n",
    "                else:\n",
    "                    entry['preview'] = ''.join(rev.find('div', {'class' : 'contents'}).find('p').text.split('.')[:2])\n",
    "                    entry['score'] = 'N/A'\n",
    "                entry['author'] = rev.find('a', {'class': 'authors-detail__display-name'}).text\n",
    "            all_dict.append(entry)\n",
    "    new_music = pd.DataFrame(all_dict)\n",
    "    new_music = new_music[new_music['album_track'] != 'Track']\n",
    "    return new_music"
   ]
  },
  {
   "cell_type": "code",
   "execution_count": 13,
   "metadata": {},
   "outputs": [],
   "source": [
    "best_new_music = get_pitchfork('https://pitchfork.com/best/')"
   ]
  },
  {
   "cell_type": "code",
   "execution_count": 14,
   "metadata": {},
   "outputs": [
    {
     "data": {
      "text/html": [
       "<div>\n",
       "<style scoped>\n",
       "    .dataframe tbody tr th:only-of-type {\n",
       "        vertical-align: middle;\n",
       "    }\n",
       "\n",
       "    .dataframe tbody tr th {\n",
       "        vertical-align: top;\n",
       "    }\n",
       "\n",
       "    .dataframe thead th {\n",
       "        text-align: right;\n",
       "    }\n",
       "</style>\n",
       "<table border=\"1\" class=\"dataframe\">\n",
       "  <thead>\n",
       "    <tr style=\"text-align: right;\">\n",
       "      <th></th>\n",
       "      <th>artist</th>\n",
       "      <th>title</th>\n",
       "      <th>review_link</th>\n",
       "      <th>album_track</th>\n",
       "      <th>genre</th>\n",
       "      <th>artwork</th>\n",
       "    </tr>\n",
       "  </thead>\n",
       "  <tbody>\n",
       "    <tr>\n",
       "      <th>0</th>\n",
       "      <td>Kali Uchis</td>\n",
       "      <td>Red Moon in Venus</td>\n",
       "      <td>https://pitchfork.com/best//reviews/albums/kal...</td>\n",
       "      <td>Album</td>\n",
       "      <td>[Pop/R&amp;B]</td>\n",
       "      <td>https://media.pitchfork.com/photos/63cece0fa59...</td>\n",
       "    </tr>\n",
       "    <tr>\n",
       "      <th>2</th>\n",
       "      <td>Various Artists</td>\n",
       "      <td>Soul’d Out: The Complete Wattstax Collection</td>\n",
       "      <td>https://pitchfork.com/best//reviews/albums/var...</td>\n",
       "      <td>Album</td>\n",
       "      <td>[]</td>\n",
       "      <td>https://media.pitchfork.com/photos/63ff7859f53...</td>\n",
       "    </tr>\n",
       "    <tr>\n",
       "      <th>3</th>\n",
       "      <td>Model/Actriz</td>\n",
       "      <td>Dogsbody</td>\n",
       "      <td>/reviews/albums/model-actriz-dogsbody/</td>\n",
       "      <td>Album</td>\n",
       "      <td>Rock</td>\n",
       "      <td>https://media.pitchfork.com/photos/63c562f0688...</td>\n",
       "    </tr>\n",
       "    <tr>\n",
       "      <th>4</th>\n",
       "      <td>Liv.e</td>\n",
       "      <td>Girl in the Half Pearl</td>\n",
       "      <td>/reviews/albums/live-girl-in-the-half-pearl/</td>\n",
       "      <td>Album</td>\n",
       "      <td>Pop/R&amp;B</td>\n",
       "      <td>https://media.pitchfork.com/photos/63b85a20198...</td>\n",
       "    </tr>\n",
       "    <tr>\n",
       "      <th>5</th>\n",
       "      <td>Caroline Polachek</td>\n",
       "      <td>Desire, I Want to Turn Into You</td>\n",
       "      <td>/reviews/albums/caroline-polachek-desire-i-wan...</td>\n",
       "      <td>Album</td>\n",
       "      <td>Pop/R&amp;B</td>\n",
       "      <td>https://media.pitchfork.com/photos/638e25b9050...</td>\n",
       "    </tr>\n",
       "    <tr>\n",
       "      <th>6</th>\n",
       "      <td>Kelela</td>\n",
       "      <td>Raven</td>\n",
       "      <td>/reviews/albums/kelela-raven/</td>\n",
       "      <td>Album</td>\n",
       "      <td>Pop/R&amp;B</td>\n",
       "      <td>https://media.pitchfork.com/photos/6373a6527e5...</td>\n",
       "    </tr>\n",
       "    <tr>\n",
       "      <th>7</th>\n",
       "      <td>Yo La Tengo</td>\n",
       "      <td>This Stupid World</td>\n",
       "      <td>/reviews/albums/yo-la-tengo-this-stupid-world/</td>\n",
       "      <td>Album</td>\n",
       "      <td>Rock</td>\n",
       "      <td>https://media.pitchfork.com/photos/636277ecdc5...</td>\n",
       "    </tr>\n",
       "    <tr>\n",
       "      <th>8</th>\n",
       "      <td>파란노을 (Parannoul)</td>\n",
       "      <td>After the Magic</td>\n",
       "      <td>/reviews/albums/parannoul-after-the-magic/</td>\n",
       "      <td>Album</td>\n",
       "      <td>Rock</td>\n",
       "      <td>https://media.pitchfork.com/photos/63d4551997f...</td>\n",
       "    </tr>\n",
       "    <tr>\n",
       "      <th>15</th>\n",
       "      <td>Phew</td>\n",
       "      <td>Our Likeness</td>\n",
       "      <td>/reviews/albums/phew-our-likeness/</td>\n",
       "      <td>Album</td>\n",
       "      <td>Experimental</td>\n",
       "      <td>https://media.pitchfork.com/photos/63f4ebad1fb...</td>\n",
       "    </tr>\n",
       "    <tr>\n",
       "      <th>16</th>\n",
       "      <td>Laraaji</td>\n",
       "      <td>Segue to Infinity</td>\n",
       "      <td>/reviews/albums/laraaji-segue-to-infinity/</td>\n",
       "      <td>Album</td>\n",
       "      <td>Experimental</td>\n",
       "      <td>https://media.pitchfork.com/photos/63768f06f1e...</td>\n",
       "    </tr>\n",
       "    <tr>\n",
       "      <th>17</th>\n",
       "      <td>Bob Dylan</td>\n",
       "      <td>Fragments - Time Out of Mind Sessions (1996-19...</td>\n",
       "      <td>/reviews/albums/bob-dylan-fragments-time-out-o...</td>\n",
       "      <td>Album</td>\n",
       "      <td>Rock</td>\n",
       "      <td>https://media.pitchfork.com/photos/6376593f886...</td>\n",
       "    </tr>\n",
       "    <tr>\n",
       "      <th>18</th>\n",
       "      <td>PJ Harvey</td>\n",
       "      <td>B-Sides, Demos &amp; Rarities</td>\n",
       "      <td>/reviews/albums/pj-harvey-b-sides-demos-and-ra...</td>\n",
       "      <td>Album</td>\n",
       "      <td>Rock</td>\n",
       "      <td>https://media.pitchfork.com/photos/631fc698800...</td>\n",
       "    </tr>\n",
       "    <tr>\n",
       "      <th>19</th>\n",
       "      <td>David Bowie</td>\n",
       "      <td>Divine Symmetry</td>\n",
       "      <td>/reviews/albums/david-bowie-divine-symmetry/</td>\n",
       "      <td>Album</td>\n",
       "      <td>Rock</td>\n",
       "      <td>https://media.pitchfork.com/photos/6336005157d...</td>\n",
       "    </tr>\n",
       "    <tr>\n",
       "      <th>20</th>\n",
       "      <td>Galcher Lustwerk</td>\n",
       "      <td>100% Galcher</td>\n",
       "      <td>/reviews/albums/galcher-lustwerk-100-galcher/</td>\n",
       "      <td>Album</td>\n",
       "      <td>Electronic</td>\n",
       "      <td>https://media.pitchfork.com/photos/6388c342f77...</td>\n",
       "    </tr>\n",
       "  </tbody>\n",
       "</table>\n",
       "</div>"
      ],
      "text/plain": [
       "               artist                                              title  \\\n",
       "0          Kali Uchis                                  Red Moon in Venus   \n",
       "2     Various Artists       Soul’d Out: The Complete Wattstax Collection   \n",
       "3        Model/Actriz                                           Dogsbody   \n",
       "4               Liv.e                             Girl in the Half Pearl   \n",
       "5   Caroline Polachek                    Desire, I Want to Turn Into You   \n",
       "6              Kelela                                              Raven   \n",
       "7         Yo La Tengo                                  This Stupid World   \n",
       "8    파란노을 (Parannoul)                                   After the Magic    \n",
       "15               Phew                                       Our Likeness   \n",
       "16            Laraaji                                  Segue to Infinity   \n",
       "17          Bob Dylan  Fragments - Time Out of Mind Sessions (1996-19...   \n",
       "18          PJ Harvey                          B-Sides, Demos & Rarities   \n",
       "19        David Bowie                                   Divine Symmetry    \n",
       "20   Galcher Lustwerk                                       100% Galcher   \n",
       "\n",
       "                                          review_link album_track  \\\n",
       "0   https://pitchfork.com/best//reviews/albums/kal...       Album   \n",
       "2   https://pitchfork.com/best//reviews/albums/var...       Album   \n",
       "3              /reviews/albums/model-actriz-dogsbody/       Album   \n",
       "4        /reviews/albums/live-girl-in-the-half-pearl/       Album   \n",
       "5   /reviews/albums/caroline-polachek-desire-i-wan...       Album   \n",
       "6                       /reviews/albums/kelela-raven/       Album   \n",
       "7      /reviews/albums/yo-la-tengo-this-stupid-world/       Album   \n",
       "8          /reviews/albums/parannoul-after-the-magic/       Album   \n",
       "15                 /reviews/albums/phew-our-likeness/       Album   \n",
       "16         /reviews/albums/laraaji-segue-to-infinity/       Album   \n",
       "17  /reviews/albums/bob-dylan-fragments-time-out-o...       Album   \n",
       "18  /reviews/albums/pj-harvey-b-sides-demos-and-ra...       Album   \n",
       "19       /reviews/albums/david-bowie-divine-symmetry/       Album   \n",
       "20      /reviews/albums/galcher-lustwerk-100-galcher/       Album   \n",
       "\n",
       "           genre                                            artwork  \n",
       "0      [Pop/R&B]  https://media.pitchfork.com/photos/63cece0fa59...  \n",
       "2             []  https://media.pitchfork.com/photos/63ff7859f53...  \n",
       "3           Rock  https://media.pitchfork.com/photos/63c562f0688...  \n",
       "4        Pop/R&B  https://media.pitchfork.com/photos/63b85a20198...  \n",
       "5        Pop/R&B  https://media.pitchfork.com/photos/638e25b9050...  \n",
       "6        Pop/R&B  https://media.pitchfork.com/photos/6373a6527e5...  \n",
       "7           Rock  https://media.pitchfork.com/photos/636277ecdc5...  \n",
       "8           Rock  https://media.pitchfork.com/photos/63d4551997f...  \n",
       "15  Experimental  https://media.pitchfork.com/photos/63f4ebad1fb...  \n",
       "16  Experimental  https://media.pitchfork.com/photos/63768f06f1e...  \n",
       "17          Rock  https://media.pitchfork.com/photos/6376593f886...  \n",
       "18          Rock  https://media.pitchfork.com/photos/631fc698800...  \n",
       "19          Rock  https://media.pitchfork.com/photos/6336005157d...  \n",
       "20    Electronic  https://media.pitchfork.com/photos/6388c342f77...  "
      ]
     },
     "execution_count": 14,
     "metadata": {},
     "output_type": "execute_result"
    }
   ],
   "source": [
    "best_new_music"
   ]
  },
  {
   "cell_type": "code",
   "execution_count": 15,
   "metadata": {},
   "outputs": [],
   "source": [
    "best_new_music.to_csv('new_music.csv', index=False) "
   ]
  },
  {
   "cell_type": "markdown",
   "metadata": {},
   "source": [
    "#### Notebook ends here. New music csv generated and can be used in the Spotify notebook"
   ]
  }
 ],
 "metadata": {
  "kernelspec": {
   "display_name": "Python 3 (ipykernel)",
   "language": "python",
   "name": "python3"
  },
  "language_info": {
   "codemirror_mode": {
    "name": "ipython",
    "version": 3
   },
   "file_extension": ".py",
   "mimetype": "text/x-python",
   "name": "python",
   "nbconvert_exporter": "python",
   "pygments_lexer": "ipython3",
   "version": "3.9.13"
  }
 },
 "nbformat": 4,
 "nbformat_minor": 4
}
